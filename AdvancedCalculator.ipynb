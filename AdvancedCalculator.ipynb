{
 "cells": [
  {
   "cell_type": "code",
   "execution_count": 1,
   "id": "f1998353-5956-4484-bb6b-f730da4c95a7",
   "metadata": {},
   "outputs": [
    {
     "name": "stdout",
     "output_type": "stream",
     "text": [
      "Welcome to the Advanced Calculator!\n",
      "Choose an operation:\n",
      "1 for Addition (+)\n",
      "2 for Subtraction (-)\n",
      "3 for Multiplication (*)\n",
      "4 for Exponentiation (**)\n",
      "5 for Division (/)\n",
      "6 for modulus operation(%)\n"
     ]
    },
    {
     "name": "stdin",
     "output_type": "stream",
     "text": [
      "Enter the operation (1/2/3/4/5/6) or 0 to exit:  1\n",
      "Enter first number:  12\n",
      "Enter second number:  12\n"
     ]
    },
    {
     "name": "stdout",
     "output_type": "stream",
     "text": [
      "Addition of num1 and num2 is:  24.0\n"
     ]
    },
    {
     "name": "stdin",
     "output_type": "stream",
     "text": [
      "Enter the operation (1/2/3/4/5/6) or 0 to exit:  2\n",
      "Enter first number:  20\n",
      "Enter second number:  10\n"
     ]
    },
    {
     "name": "stdout",
     "output_type": "stream",
     "text": [
      "Subtraction of num1 and num2 is:  10.0\n"
     ]
    },
    {
     "name": "stdin",
     "output_type": "stream",
     "text": [
      "Enter the operation (1/2/3/4/5/6) or 0 to exit:  3\n",
      "Enter first number:  2\n",
      "Enter second number:  4\n"
     ]
    },
    {
     "name": "stdout",
     "output_type": "stream",
     "text": [
      "Multiplication of num1 and num2 is:  8.0\n"
     ]
    },
    {
     "name": "stdin",
     "output_type": "stream",
     "text": [
      "Enter the operation (1/2/3/4/5/6) or 0 to exit:  4\n",
      "Enter first number:  2\n",
      "Enter second number:  3\n"
     ]
    },
    {
     "name": "stdout",
     "output_type": "stream",
     "text": [
      "Exponentiation of num1 and num2 is:  8.0\n"
     ]
    },
    {
     "name": "stdin",
     "output_type": "stream",
     "text": [
      "Enter the operation (1/2/3/4/5/6) or 0 to exit:  5\n",
      "Enter first number:  20\n",
      "Enter second number:  10\n"
     ]
    },
    {
     "name": "stdout",
     "output_type": "stream",
     "text": [
      "Division of num1 and num2 is:  2.0\n"
     ]
    },
    {
     "name": "stdin",
     "output_type": "stream",
     "text": [
      "Enter the operation (1/2/3/4/5/6) or 0 to exit:  6\n",
      "Enter first number:  20\n",
      "Enter second number:  10\n"
     ]
    },
    {
     "name": "stdout",
     "output_type": "stream",
     "text": [
      "Modulus of num1 and num2 is:  0.0\n"
     ]
    },
    {
     "name": "stdin",
     "output_type": "stream",
     "text": [
      "Enter the operation (1/2/3/4/5/6) or 0 to exit:  0\n"
     ]
    },
    {
     "name": "stdout",
     "output_type": "stream",
     "text": [
      "Exiting the calculator. Goodbye!\n"
     ]
    }
   ],
   "source": [
    "\n",
    "def add(x, y):   # function for addition\n",
    "    return x + y  \n",
    "\n",
    "def subtract(x, y): # function for subtraction\n",
    "    return x - y\n",
    "\n",
    "def multiply(x, y): # function for multiplication\n",
    "    return x * y\n",
    "\n",
    "def squares(x,y):  #function for exponentiation (squares)\n",
    "    return x**y\n",
    "    return x**x\n",
    "    return y**y\n",
    "\n",
    "def divide(x, y): # function for division\n",
    "    if y == 0:\n",
    "        raise ValueError(\"Error: Division by zero is not allowed.\")\n",
    "    return x / y\n",
    "\n",
    "def modulus(x, y): #function for modulus operation\n",
    "    if y == 0:\n",
    "        raise ValueError(\"Error: Division by zero is not allowed.\")\n",
    "    return x % y\n",
    "\n",
    "\n",
    "def calculator(): # Main calculator function\n",
    "    print(\"Welcome to the Advanced Calculator!\")\n",
    "    print(\"Choose an operation:\")\n",
    "    print(\"1 for Addition (+)\")\n",
    "    print(\"2 for Subtraction (-)\")\n",
    "    print(\"3 for Multiplication (*)\")\n",
    "    print(\"4 for Exponentiation (**)\")\n",
    "    print(\"5 for Division (/)\")\n",
    "    print(\"6 for modulus operation(%)\")\n",
    "    \n",
    "\n",
    "    while True:\n",
    "        operation = input(\"Enter the operation (1/2/3/4/5/6) or 0 to exit: \")\n",
    "        \n",
    "        if operation == '0': # Exit condition\n",
    "            print(\"Exiting the calculator. Goodbye!\")\n",
    "            break\n",
    "\n",
    "        if operation in ['1', '2', '3', '4','5','6']:\n",
    "            try:\n",
    "                 # Take user input for the numbers to operate on\n",
    "                num1 = float(input(\"Enter first number: \"))\n",
    "                num2 = float(input(\"Enter second number: \"))\n",
    "\n",
    "                if operation == '1':  # Addition\n",
    "                    result = add(num1, num2)\n",
    "                    print(\"Addition of num1 and num2 is: \", result)\n",
    "                elif operation == '2': # Subtraction\n",
    "                    result = subtract(num1, num2)\n",
    "                    print(\"Subtraction of num1 and num2 is: \",result)\n",
    "                elif operation == '3': # Multiplication\n",
    "                    result = multiply(num1, num2)\n",
    "                    print(\"Multiplication of num1 and num2 is: \",result)\n",
    "                elif operation == '4': # Exponentiation\n",
    "                    result = squares(num1, num2)\n",
    "                    print(\"Exponentiation of num1 and num2 is: \",result)\n",
    "                elif operation == '5': # Division\n",
    "                    result = divide(num1, num2)\n",
    "                    print(\"Division of num1 and num2 is: \",result)\n",
    "                elif operation == '6':  # Modulus\n",
    "                    result = modulus(num1, num2)\n",
    "                    print(\"Modulus of num1 and num2 is: \",result)\n",
    "            except ValueError as e:\n",
    "                print(e)\n",
    "            except Exception as e:\n",
    "                print(\"An unexpected error occurred:\", e)\n",
    "        else:\n",
    "            print(\"Invalid operation. Please enter a number between 1 and 4.\")\n",
    "            \n",
    "calculator()\n"
   ]
  },
  {
   "cell_type": "code",
   "execution_count": null,
   "id": "dc5b9d99-50ed-4336-beff-e73ebec1e8ad",
   "metadata": {},
   "outputs": [],
   "source": []
  },
  {
   "cell_type": "code",
   "execution_count": null,
   "id": "0cc500e4-dfee-46d7-bd5d-ecb8378925cc",
   "metadata": {},
   "outputs": [],
   "source": []
  },
  {
   "cell_type": "code",
   "execution_count": null,
   "id": "cdebd8b0-6dbc-468d-8c71-5d55e51c5bf4",
   "metadata": {},
   "outputs": [],
   "source": []
  }
 ],
 "metadata": {
  "kernelspec": {
   "display_name": "Python 3 (ipykernel)",
   "language": "python",
   "name": "python3"
  },
  "language_info": {
   "codemirror_mode": {
    "name": "ipython",
    "version": 3
   },
   "file_extension": ".py",
   "mimetype": "text/x-python",
   "name": "python",
   "nbconvert_exporter": "python",
   "pygments_lexer": "ipython3",
   "version": "3.12.4"
  }
 },
 "nbformat": 4,
 "nbformat_minor": 5
}
